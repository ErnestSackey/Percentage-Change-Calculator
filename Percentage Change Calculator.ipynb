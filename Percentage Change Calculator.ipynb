{
 "cells": [
  {
   "cell_type": "code",
   "execution_count": 3,
   "id": "e732ddd4-69b5-49ff-a48e-28f5c3373cd0",
   "metadata": {},
   "outputs": [
    {
     "name": "stdin",
     "output_type": "stream",
     "text": [
      "What is the original number: 3\n",
      "What is the new number: 4\n"
     ]
    },
    {
     "name": "stdout",
     "output_type": "stream",
     "text": [
      "This is an increase of: 1\n",
      "and has a % increase of: 33.33%\n"
     ]
    }
   ],
   "source": [
    "def calculator():\n",
    "    while True:\n",
    "        try:\n",
    "            original_number = int(input('What is the original number:')) #take the original number from user\n",
    "            break\n",
    "        except:\n",
    "            print(\"That's not a valid number!\") #handling non numeric numbers\n",
    "    while True:\n",
    "        try:\n",
    "            new_number = int(input('What is the new number:')) #take the new number from user\n",
    "            break\n",
    "        except:\n",
    "            print(\"That's not a valid number!\")\n",
    "    difference = new_number - original_number #calculates the difference \n",
    "    if difference > 0:\n",
    "        print(f'This is an increase of: {difference}')\n",
    "    else:\n",
    "        print(f'This is an decrease of: {difference}')\n",
    "    percent_difference = round((difference / original_number) * 100, 2) #calculates the % difference\n",
    "    if difference > 0:\n",
    "        print(f'and has a % increase of: {percent_difference}%')\n",
    "    else:\n",
    "        print(f'and has a % decrease of: {percent_difference}%')\n",
    "        \n",
    "calculator()"
   ]
  },
  {
   "cell_type": "code",
   "execution_count": 53,
   "id": "c190e180-ee4a-442a-b19e-667e9564174f",
   "metadata": {},
   "outputs": [
    {
     "name": "stdin",
     "output_type": "stream",
     "text": [
      "What is the original number: 3\n",
      "What is the new number: 4\n"
     ]
    },
    {
     "name": "stdout",
     "output_type": "stream",
     "text": [
      "This is an increase of: 1\n",
      "and has a % increase of: 33.33%\n"
     ]
    }
   ],
   "source": []
  },
  {
   "cell_type": "code",
   "execution_count": null,
   "id": "d2a42a6b-2e73-4b73-bbdd-626d3cb0fd4c",
   "metadata": {},
   "outputs": [],
   "source": []
  }
 ],
 "metadata": {
  "kernelspec": {
   "display_name": "Python 3",
   "language": "python",
   "name": "python3"
  },
  "language_info": {
   "codemirror_mode": {
    "name": "ipython",
    "version": 3
   },
   "file_extension": ".py",
   "mimetype": "text/x-python",
   "name": "python",
   "nbconvert_exporter": "python",
   "pygments_lexer": "ipython3",
   "version": "3.8.10"
  }
 },
 "nbformat": 4,
 "nbformat_minor": 5
}
